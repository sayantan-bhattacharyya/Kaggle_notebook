{
 "cells": [
  {
   "cell_type": "code",
   "execution_count": 1,
   "id": "0271da66",
   "metadata": {
    "_cell_guid": "b1076dfc-b9ad-4769-8c92-a6c4dae69d19",
    "_uuid": "8f2839f25d086af736a60e9eeb907d3b93b6e0e5",
    "execution": {
     "iopub.execute_input": "2022-04-25T13:48:42.232487Z",
     "iopub.status.busy": "2022-04-25T13:48:42.231242Z",
     "iopub.status.idle": "2022-04-25T13:48:42.251064Z",
     "shell.execute_reply": "2022-04-25T13:48:42.251834Z",
     "shell.execute_reply.started": "2022-04-25T13:45:20.247079Z"
    },
    "papermill": {
     "duration": 0.041005,
     "end_time": "2022-04-25T13:48:42.252258",
     "exception": false,
     "start_time": "2022-04-25T13:48:42.211253",
     "status": "completed"
    },
    "tags": []
   },
   "outputs": [
    {
     "name": "stdout",
     "output_type": "stream",
     "text": [
      "/kaggle/input/autompgdatasetzip/auto-mpg.csv\n",
      "/kaggle/input/autompgdatasetzip/auto-mpg.names\n"
     ]
    }
   ],
   "source": [
    "## This Python 3 environment comes with many helpful analytics libraries installed\n",
    "# It is defined by the kaggle/python Docker image: https://github.com/kaggle/docker-python\n",
    "# For example, here's several helpful packages to load\n",
    "\n",
    "import numpy as np # linear algebra\n",
    "import pandas as pd # data processing, CSV file I/O (e.g. pd.read_csv)\n",
    "\n",
    "# Input data files are available in the read-only \"../input/\" directory\n",
    "# For example, running this (by clicking run or pressing Shift+Enter) will list all files under the input directory\n",
    "\n",
    "import os\n",
    "for dirname, _, filenames in os.walk('/kaggle/input'):\n",
    "    for filename in filenames:\n",
    "        print(os.path.join(dirname, filename))\n",
    "\n",
    "# You can write up to 20GB to the current directory (/kaggle/working/) that gets preserved as output when you create a version using \"Save & Run All\" \n",
    "# You can also write temporary files to /kaggle/temp/, but they won't be saved outside of the current session"
   ]
  },
  {
   "cell_type": "code",
   "execution_count": 2,
   "id": "357733e2",
   "metadata": {
    "execution": {
     "iopub.execute_input": "2022-04-25T13:48:42.288344Z",
     "iopub.status.busy": "2022-04-25T13:48:42.287325Z",
     "iopub.status.idle": "2022-04-25T13:48:42.291311Z",
     "shell.execute_reply": "2022-04-25T13:48:42.291842Z",
     "shell.execute_reply.started": "2022-04-25T13:45:20.265647Z"
    },
    "papermill": {
     "duration": 0.023295,
     "end_time": "2022-04-25T13:48:42.292019",
     "exception": false,
     "start_time": "2022-04-25T13:48:42.268724",
     "status": "completed"
    },
    "tags": []
   },
   "outputs": [],
   "source": [
    "import matplotlib.pyplot as plt"
   ]
  },
  {
   "cell_type": "code",
   "execution_count": 3,
   "id": "55033d88",
   "metadata": {
    "execution": {
     "iopub.execute_input": "2022-04-25T13:48:42.327381Z",
     "iopub.status.busy": "2022-04-25T13:48:42.326439Z",
     "iopub.status.idle": "2022-04-25T13:48:42.371498Z",
     "shell.execute_reply": "2022-04-25T13:48:42.372021Z",
     "shell.execute_reply.started": "2022-04-25T13:45:20.278924Z"
    },
    "papermill": {
     "duration": 0.063971,
     "end_time": "2022-04-25T13:48:42.372192",
     "exception": false,
     "start_time": "2022-04-25T13:48:42.308221",
     "status": "completed"
    },
    "tags": []
   },
   "outputs": [
    {
     "data": {
      "text/html": [
       "<div>\n",
       "<style scoped>\n",
       "    .dataframe tbody tr th:only-of-type {\n",
       "        vertical-align: middle;\n",
       "    }\n",
       "\n",
       "    .dataframe tbody tr th {\n",
       "        vertical-align: top;\n",
       "    }\n",
       "\n",
       "    .dataframe thead th {\n",
       "        text-align: right;\n",
       "    }\n",
       "</style>\n",
       "<table border=\"1\" class=\"dataframe\">\n",
       "  <thead>\n",
       "    <tr style=\"text-align: right;\">\n",
       "      <th></th>\n",
       "      <th>mpg</th>\n",
       "      <th>cylinders</th>\n",
       "      <th>displacement</th>\n",
       "      <th>horsepower</th>\n",
       "      <th>weight</th>\n",
       "      <th>acceleration</th>\n",
       "      <th>model year</th>\n",
       "      <th>origin</th>\n",
       "      <th>car name</th>\n",
       "    </tr>\n",
       "  </thead>\n",
       "  <tbody>\n",
       "    <tr>\n",
       "      <th>0</th>\n",
       "      <td>18.0</td>\n",
       "      <td>8</td>\n",
       "      <td>307.0</td>\n",
       "      <td>130</td>\n",
       "      <td>3504</td>\n",
       "      <td>12.0</td>\n",
       "      <td>70</td>\n",
       "      <td>1</td>\n",
       "      <td>chevrolet chevelle malibu</td>\n",
       "    </tr>\n",
       "    <tr>\n",
       "      <th>1</th>\n",
       "      <td>15.0</td>\n",
       "      <td>8</td>\n",
       "      <td>350.0</td>\n",
       "      <td>165</td>\n",
       "      <td>3693</td>\n",
       "      <td>11.5</td>\n",
       "      <td>70</td>\n",
       "      <td>1</td>\n",
       "      <td>buick skylark 320</td>\n",
       "    </tr>\n",
       "    <tr>\n",
       "      <th>2</th>\n",
       "      <td>18.0</td>\n",
       "      <td>8</td>\n",
       "      <td>318.0</td>\n",
       "      <td>150</td>\n",
       "      <td>3436</td>\n",
       "      <td>11.0</td>\n",
       "      <td>70</td>\n",
       "      <td>1</td>\n",
       "      <td>plymouth satellite</td>\n",
       "    </tr>\n",
       "    <tr>\n",
       "      <th>3</th>\n",
       "      <td>16.0</td>\n",
       "      <td>8</td>\n",
       "      <td>304.0</td>\n",
       "      <td>150</td>\n",
       "      <td>3433</td>\n",
       "      <td>12.0</td>\n",
       "      <td>70</td>\n",
       "      <td>1</td>\n",
       "      <td>amc rebel sst</td>\n",
       "    </tr>\n",
       "    <tr>\n",
       "      <th>4</th>\n",
       "      <td>17.0</td>\n",
       "      <td>8</td>\n",
       "      <td>302.0</td>\n",
       "      <td>140</td>\n",
       "      <td>3449</td>\n",
       "      <td>10.5</td>\n",
       "      <td>70</td>\n",
       "      <td>1</td>\n",
       "      <td>ford torino</td>\n",
       "    </tr>\n",
       "    <tr>\n",
       "      <th>...</th>\n",
       "      <td>...</td>\n",
       "      <td>...</td>\n",
       "      <td>...</td>\n",
       "      <td>...</td>\n",
       "      <td>...</td>\n",
       "      <td>...</td>\n",
       "      <td>...</td>\n",
       "      <td>...</td>\n",
       "      <td>...</td>\n",
       "    </tr>\n",
       "    <tr>\n",
       "      <th>393</th>\n",
       "      <td>27.0</td>\n",
       "      <td>4</td>\n",
       "      <td>140.0</td>\n",
       "      <td>86</td>\n",
       "      <td>2790</td>\n",
       "      <td>15.6</td>\n",
       "      <td>82</td>\n",
       "      <td>1</td>\n",
       "      <td>ford mustang gl</td>\n",
       "    </tr>\n",
       "    <tr>\n",
       "      <th>394</th>\n",
       "      <td>44.0</td>\n",
       "      <td>4</td>\n",
       "      <td>97.0</td>\n",
       "      <td>52</td>\n",
       "      <td>2130</td>\n",
       "      <td>24.6</td>\n",
       "      <td>82</td>\n",
       "      <td>2</td>\n",
       "      <td>vw pickup</td>\n",
       "    </tr>\n",
       "    <tr>\n",
       "      <th>395</th>\n",
       "      <td>32.0</td>\n",
       "      <td>4</td>\n",
       "      <td>135.0</td>\n",
       "      <td>84</td>\n",
       "      <td>2295</td>\n",
       "      <td>11.6</td>\n",
       "      <td>82</td>\n",
       "      <td>1</td>\n",
       "      <td>dodge rampage</td>\n",
       "    </tr>\n",
       "    <tr>\n",
       "      <th>396</th>\n",
       "      <td>28.0</td>\n",
       "      <td>4</td>\n",
       "      <td>120.0</td>\n",
       "      <td>79</td>\n",
       "      <td>2625</td>\n",
       "      <td>18.6</td>\n",
       "      <td>82</td>\n",
       "      <td>1</td>\n",
       "      <td>ford ranger</td>\n",
       "    </tr>\n",
       "    <tr>\n",
       "      <th>397</th>\n",
       "      <td>31.0</td>\n",
       "      <td>4</td>\n",
       "      <td>119.0</td>\n",
       "      <td>82</td>\n",
       "      <td>2720</td>\n",
       "      <td>19.4</td>\n",
       "      <td>82</td>\n",
       "      <td>1</td>\n",
       "      <td>chevy s-10</td>\n",
       "    </tr>\n",
       "  </tbody>\n",
       "</table>\n",
       "<p>398 rows × 9 columns</p>\n",
       "</div>"
      ],
      "text/plain": [
       "      mpg  cylinders  displacement horsepower  weight  acceleration  \\\n",
       "0    18.0          8         307.0        130    3504          12.0   \n",
       "1    15.0          8         350.0        165    3693          11.5   \n",
       "2    18.0          8         318.0        150    3436          11.0   \n",
       "3    16.0          8         304.0        150    3433          12.0   \n",
       "4    17.0          8         302.0        140    3449          10.5   \n",
       "..    ...        ...           ...        ...     ...           ...   \n",
       "393  27.0          4         140.0         86    2790          15.6   \n",
       "394  44.0          4          97.0         52    2130          24.6   \n",
       "395  32.0          4         135.0         84    2295          11.6   \n",
       "396  28.0          4         120.0         79    2625          18.6   \n",
       "397  31.0          4         119.0         82    2720          19.4   \n",
       "\n",
       "     model year  origin                   car name  \n",
       "0            70       1  chevrolet chevelle malibu  \n",
       "1            70       1          buick skylark 320  \n",
       "2            70       1         plymouth satellite  \n",
       "3            70       1              amc rebel sst  \n",
       "4            70       1                ford torino  \n",
       "..          ...     ...                        ...  \n",
       "393          82       1            ford mustang gl  \n",
       "394          82       2                  vw pickup  \n",
       "395          82       1              dodge rampage  \n",
       "396          82       1                ford ranger  \n",
       "397          82       1                 chevy s-10  \n",
       "\n",
       "[398 rows x 9 columns]"
      ]
     },
     "execution_count": 3,
     "metadata": {},
     "output_type": "execute_result"
    }
   ],
   "source": [
    "df=pd.read_csv(\"../input/autompgdatasetzip/auto-mpg.csv\")\n",
    "df"
   ]
  },
  {
   "cell_type": "code",
   "execution_count": 4,
   "id": "5fcc2f00",
   "metadata": {
    "execution": {
     "iopub.execute_input": "2022-04-25T13:48:42.408488Z",
     "iopub.status.busy": "2022-04-25T13:48:42.407539Z",
     "iopub.status.idle": "2022-04-25T13:48:42.415426Z",
     "shell.execute_reply": "2022-04-25T13:48:42.416021Z",
     "shell.execute_reply.started": "2022-04-25T13:45:20.569721Z"
    },
    "papermill": {
     "duration": 0.027677,
     "end_time": "2022-04-25T13:48:42.416187",
     "exception": false,
     "start_time": "2022-04-25T13:48:42.388510",
     "status": "completed"
    },
    "tags": []
   },
   "outputs": [
    {
     "data": {
      "text/plain": [
       "mpg             0\n",
       "cylinders       0\n",
       "displacement    0\n",
       "horsepower      0\n",
       "weight          0\n",
       "acceleration    0\n",
       "model year      0\n",
       "origin          0\n",
       "car name        0\n",
       "dtype: int64"
      ]
     },
     "execution_count": 4,
     "metadata": {},
     "output_type": "execute_result"
    }
   ],
   "source": [
    "#NULL VALUES\n",
    "df.isnull().sum()"
   ]
  },
  {
   "cell_type": "code",
   "execution_count": 5,
   "id": "3e845f3d",
   "metadata": {
    "execution": {
     "iopub.execute_input": "2022-04-25T13:48:42.452404Z",
     "iopub.status.busy": "2022-04-25T13:48:42.451724Z",
     "iopub.status.idle": "2022-04-25T13:48:42.473686Z",
     "shell.execute_reply": "2022-04-25T13:48:42.474194Z",
     "shell.execute_reply.started": "2022-04-25T13:45:20.580669Z"
    },
    "papermill": {
     "duration": 0.042038,
     "end_time": "2022-04-25T13:48:42.474365",
     "exception": false,
     "start_time": "2022-04-25T13:48:42.432327",
     "status": "completed"
    },
    "tags": []
   },
   "outputs": [
    {
     "name": "stdout",
     "output_type": "stream",
     "text": [
      "<class 'pandas.core.frame.DataFrame'>\n",
      "RangeIndex: 398 entries, 0 to 397\n",
      "Data columns (total 9 columns):\n",
      " #   Column        Non-Null Count  Dtype  \n",
      "---  ------        --------------  -----  \n",
      " 0   mpg           398 non-null    float64\n",
      " 1   cylinders     398 non-null    int64  \n",
      " 2   displacement  398 non-null    float64\n",
      " 3   horsepower    398 non-null    object \n",
      " 4   weight        398 non-null    int64  \n",
      " 5   acceleration  398 non-null    float64\n",
      " 6   model year    398 non-null    int64  \n",
      " 7   origin        398 non-null    int64  \n",
      " 8   car name      398 non-null    object \n",
      "dtypes: float64(3), int64(4), object(2)\n",
      "memory usage: 28.1+ KB\n"
     ]
    }
   ],
   "source": [
    "df.info()"
   ]
  },
  {
   "cell_type": "markdown",
   "id": "9a625f3a",
   "metadata": {
    "papermill": {
     "duration": 0.016739,
     "end_time": "2022-04-25T13:48:42.508732",
     "exception": false,
     "start_time": "2022-04-25T13:48:42.491993",
     "status": "completed"
    },
    "tags": []
   },
   "source": [
    "# Box plot of features"
   ]
  },
  {
   "cell_type": "code",
   "execution_count": 6,
   "id": "81b061d1",
   "metadata": {
    "execution": {
     "iopub.execute_input": "2022-04-25T13:48:42.546471Z",
     "iopub.status.busy": "2022-04-25T13:48:42.545760Z",
     "iopub.status.idle": "2022-04-25T13:48:42.755349Z",
     "shell.execute_reply": "2022-04-25T13:48:42.754811Z",
     "shell.execute_reply.started": "2022-04-25T13:45:21.103741Z"
    },
    "papermill": {
     "duration": 0.22977,
     "end_time": "2022-04-25T13:48:42.755495",
     "exception": false,
     "start_time": "2022-04-25T13:48:42.525725",
     "status": "completed"
    },
    "tags": []
   },
   "outputs": [
    {
     "data": {
      "image/png": "[encoded data removed]",
      "text/plain": [
       "<Figure size 432x288 with 1 Axes>"
      ]
     },
     "metadata": {
      "needs_background": "light"
     },
     "output_type": "display_data"
    }
   ],
   "source": [
    "#box plot of features\n",
    "plt.boxplot(df['displacement'])\n",
    "plt.title(\"BOX PLOT OF DISPLACEMENT\")\n",
    "plt.show()"
   ]
  },
  {
   "cell_type": "code",
   "execution_count": 7,
   "id": "bd1b999a",
   "metadata": {
    "execution": {
     "iopub.execute_input": "2022-04-25T13:48:42.795331Z",
     "iopub.status.busy": "2022-04-25T13:48:42.794520Z",
     "iopub.status.idle": "2022-04-25T13:48:43.061255Z",
     "shell.execute_reply": "2022-04-25T13:48:43.060592Z",
     "shell.execute_reply.started": "2022-04-25T13:45:21.287147Z"
    },
    "papermill": {
     "duration": 0.287282,
     "end_time": "2022-04-25T13:48:43.061390",
     "exception": false,
     "start_time": "2022-04-25T13:48:42.774108",
     "status": "completed"
    },
    "tags": []
   },
   "outputs": [
    {
     "data": {
      "image/png": "[encoded data removed]",
      "text/plain": [
       "<Figure size 432x288 with 1 Axes>"
      ]
     },
     "metadata": {
      "needs_background": "light"
     },
     "output_type": "display_data"
    }
   ],
   "source": [
    "#box plot of acc\n",
    "plt.boxplot(df['acceleration'])\n",
    "plt.title(\"BOX PLOT OF ACCELERATION\")\n",
    "plt.show()"
   ]
  },
  {
   "cell_type": "markdown",
   "id": "adf9e6ae",
   "metadata": {
    "papermill": {
     "duration": 0.018132,
     "end_time": "2022-04-25T13:48:43.098307",
     "exception": false,
     "start_time": "2022-04-25T13:48:43.080175",
     "status": "completed"
    },
    "tags": []
   },
   "source": [
    "The box plot of  acceleration shows presence of outliers"
   ]
  },
  {
   "cell_type": "code",
   "execution_count": 8,
   "id": "9565f09b",
   "metadata": {
    "execution": {
     "iopub.execute_input": "2022-04-25T13:48:43.138665Z",
     "iopub.status.busy": "2022-04-25T13:48:43.138002Z",
     "iopub.status.idle": "2022-04-25T13:48:43.156633Z",
     "shell.execute_reply": "2022-04-25T13:48:43.157166Z",
     "shell.execute_reply.started": "2022-04-25T13:45:21.866957Z"
    },
    "papermill": {
     "duration": 0.040284,
     "end_time": "2022-04-25T13:48:43.157332",
     "exception": false,
     "start_time": "2022-04-25T13:48:43.117048",
     "status": "completed"
    },
    "tags": []
   },
   "outputs": [
    {
     "data": {
      "text/html": [
       "<div>\n",
       "<style scoped>\n",
       "    .dataframe tbody tr th:only-of-type {\n",
       "        vertical-align: middle;\n",
       "    }\n",
       "\n",
       "    .dataframe tbody tr th {\n",
       "        vertical-align: top;\n",
       "    }\n",
       "\n",
       "    .dataframe thead th {\n",
       "        text-align: right;\n",
       "    }\n",
       "</style>\n",
       "<table border=\"1\" class=\"dataframe\">\n",
       "  <thead>\n",
       "    <tr style=\"text-align: right;\">\n",
       "      <th></th>\n",
       "      <th>mpg</th>\n",
       "      <th>cylinders</th>\n",
       "      <th>displacement</th>\n",
       "      <th>horsepower</th>\n",
       "      <th>weight</th>\n",
       "      <th>acceleration</th>\n",
       "      <th>model year</th>\n",
       "      <th>origin</th>\n",
       "      <th>car name</th>\n",
       "    </tr>\n",
       "  </thead>\n",
       "  <tbody>\n",
       "    <tr>\n",
       "      <th>7</th>\n",
       "      <td>14.0</td>\n",
       "      <td>8</td>\n",
       "      <td>440.0</td>\n",
       "      <td>215</td>\n",
       "      <td>4312</td>\n",
       "      <td>8.5</td>\n",
       "      <td>70</td>\n",
       "      <td>1</td>\n",
       "      <td>plymouth fury iii</td>\n",
       "    </tr>\n",
       "    <tr>\n",
       "      <th>9</th>\n",
       "      <td>15.0</td>\n",
       "      <td>8</td>\n",
       "      <td>390.0</td>\n",
       "      <td>190</td>\n",
       "      <td>3850</td>\n",
       "      <td>8.5</td>\n",
       "      <td>70</td>\n",
       "      <td>1</td>\n",
       "      <td>amc ambassador dpl</td>\n",
       "    </tr>\n",
       "    <tr>\n",
       "      <th>11</th>\n",
       "      <td>14.0</td>\n",
       "      <td>8</td>\n",
       "      <td>340.0</td>\n",
       "      <td>160</td>\n",
       "      <td>3609</td>\n",
       "      <td>8.0</td>\n",
       "      <td>70</td>\n",
       "      <td>1</td>\n",
       "      <td>plymouth 'cuda 340</td>\n",
       "    </tr>\n",
       "    <tr>\n",
       "      <th>59</th>\n",
       "      <td>23.0</td>\n",
       "      <td>4</td>\n",
       "      <td>97.0</td>\n",
       "      <td>54</td>\n",
       "      <td>2254</td>\n",
       "      <td>23.5</td>\n",
       "      <td>72</td>\n",
       "      <td>2</td>\n",
       "      <td>volkswagen type 3</td>\n",
       "    </tr>\n",
       "    <tr>\n",
       "      <th>299</th>\n",
       "      <td>27.2</td>\n",
       "      <td>4</td>\n",
       "      <td>141.0</td>\n",
       "      <td>71</td>\n",
       "      <td>3190</td>\n",
       "      <td>24.8</td>\n",
       "      <td>79</td>\n",
       "      <td>2</td>\n",
       "      <td>peugeot 504</td>\n",
       "    </tr>\n",
       "    <tr>\n",
       "      <th>326</th>\n",
       "      <td>43.4</td>\n",
       "      <td>4</td>\n",
       "      <td>90.0</td>\n",
       "      <td>48</td>\n",
       "      <td>2335</td>\n",
       "      <td>23.7</td>\n",
       "      <td>80</td>\n",
       "      <td>2</td>\n",
       "      <td>vw dasher (diesel)</td>\n",
       "    </tr>\n",
       "    <tr>\n",
       "      <th>394</th>\n",
       "      <td>44.0</td>\n",
       "      <td>4</td>\n",
       "      <td>97.0</td>\n",
       "      <td>52</td>\n",
       "      <td>2130</td>\n",
       "      <td>24.6</td>\n",
       "      <td>82</td>\n",
       "      <td>2</td>\n",
       "      <td>vw pickup</td>\n",
       "    </tr>\n",
       "  </tbody>\n",
       "</table>\n",
       "</div>"
      ],
      "text/plain": [
       "      mpg  cylinders  displacement horsepower  weight  acceleration  \\\n",
       "7    14.0          8         440.0        215    4312           8.5   \n",
       "9    15.0          8         390.0        190    3850           8.5   \n",
       "11   14.0          8         340.0        160    3609           8.0   \n",
       "59   23.0          4          97.0         54    2254          23.5   \n",
       "299  27.2          4         141.0         71    3190          24.8   \n",
       "326  43.4          4          90.0         48    2335          23.7   \n",
       "394  44.0          4          97.0         52    2130          24.6   \n",
       "\n",
       "     model year  origin            car name  \n",
       "7            70       1   plymouth fury iii  \n",
       "9            70       1  amc ambassador dpl  \n",
       "11           70       1  plymouth 'cuda 340  \n",
       "59           72       2   volkswagen type 3  \n",
       "299          79       2         peugeot 504  \n",
       "326          80       2  vw dasher (diesel)  \n",
       "394          82       2           vw pickup  "
      ]
     },
     "execution_count": 8,
     "metadata": {},
     "output_type": "execute_result"
    }
   ],
   "source": [
    "quart1=df['acceleration'].quantile(0.25)\n",
    "quart3=df['acceleration'].quantile(0.75)\n",
    "IQR=quart3-quart1\n",
    "low_val=quart1 - 1.5*IQR\n",
    "high_val=quart3 + 1.5*IQR\n",
    "df.loc[((df['acceleration']< low_val) | (df['acceleration']>high_val))]"
   ]
  },
  {
   "cell_type": "code",
   "execution_count": 9,
   "id": "98997773",
   "metadata": {
    "execution": {
     "iopub.execute_input": "2022-04-25T13:48:43.199084Z",
     "iopub.status.busy": "2022-04-25T13:48:43.198273Z",
     "iopub.status.idle": "2022-04-25T13:48:43.410003Z",
     "shell.execute_reply": "2022-04-25T13:48:43.410652Z",
     "shell.execute_reply.started": "2022-04-25T13:45:21.891772Z"
    },
    "papermill": {
     "duration": 0.234304,
     "end_time": "2022-04-25T13:48:43.410839",
     "exception": false,
     "start_time": "2022-04-25T13:48:43.176535",
     "status": "completed"
    },
    "tags": []
   },
   "outputs": [
    {
     "data": {
      "image/png": "[encoded data removed]",
      "text/plain": [
       "<Figure size 432x288 with 1 Axes>"
      ]
     },
     "metadata": {
      "needs_background": "light"
     },
     "output_type": "display_data"
    }
   ],
   "source": [
    "plt.hist(df['model year'])\n",
    "plt.title(\" NUMBER OF CARS BY YEAR\")\n",
    "plt.show()"
   ]
  },
  {
   "cell_type": "code",
   "execution_count": 10,
   "id": "453f7c95",
   "metadata": {
    "execution": {
     "iopub.execute_input": "2022-04-25T13:48:43.458593Z",
     "iopub.status.busy": "2022-04-25T13:48:43.457890Z",
     "iopub.status.idle": "2022-04-25T13:48:43.692211Z",
     "shell.execute_reply": "2022-04-25T13:48:43.691662Z",
     "shell.execute_reply.started": "2022-04-25T13:45:22.108294Z"
    },
    "papermill": {
     "duration": 0.258974,
     "end_time": "2022-04-25T13:48:43.692374",
     "exception": false,
     "start_time": "2022-04-25T13:48:43.433400",
     "status": "completed"
    },
    "tags": []
   },
   "outputs": [
    {
     "data": {
      "image/png": "[encoded data removed]",
      "text/plain": [
       "<Figure size 432x288 with 1 Axes>"
      ]
     },
     "metadata": {
      "needs_background": "light"
     },
     "output_type": "display_data"
    }
   ],
   "source": [
    "plt.hist(df['cylinders'])\n",
    "plt.title(\" NUMBER OF CYLINDERS GRAPH\")\n",
    "plt.ylabel(\"No. of cars->\")\n",
    "plt.xlabel(\"No. of cylinders->\")\n",
    "plt.show()"
   ]
  },
  {
   "cell_type": "markdown",
   "id": "4e661dac",
   "metadata": {
    "papermill": {
     "duration": 0.031918,
     "end_time": "2022-04-25T13:48:43.755359",
     "exception": false,
     "start_time": "2022-04-25T13:48:43.723441",
     "status": "completed"
    },
    "tags": []
   },
   "source": [
    "# Scatter Plot of displacement vs. acceleration"
   ]
  },
  {
   "cell_type": "code",
   "execution_count": 11,
   "id": "6d49f54a",
   "metadata": {
    "execution": {
     "iopub.execute_input": "2022-04-25T13:48:43.813477Z",
     "iopub.status.busy": "2022-04-25T13:48:43.812480Z",
     "iopub.status.idle": "2022-04-25T13:48:44.078498Z",
     "shell.execute_reply": "2022-04-25T13:48:44.079345Z",
     "shell.execute_reply.started": "2022-04-25T13:45:30.163484Z"
    },
    "papermill": {
     "duration": 0.302826,
     "end_time": "2022-04-25T13:48:44.079538",
     "exception": false,
     "start_time": "2022-04-25T13:48:43.776712",
     "status": "completed"
    },
    "tags": []
   },
   "outputs": [
    {
     "data": {
      "text/plain": [
       "<function matplotlib.pyplot.show(close=None, block=None)>"
      ]
     },
     "execution_count": 11,
     "metadata": {},
     "output_type": "execute_result"
    },
    {
     "data": {
      "image/png": "[encoded data removed]",
      "text/plain": [
       "<Figure size 432x288 with 1 Axes>"
      ]
     },
     "metadata": {
      "needs_background": "light"
     },
     "output_type": "display_data"
    }
   ],
   "source": [
    "plt.scatter(df['acceleration'], df['displacement']), \n",
    "plt.title(\" DISPLACEMENT VS. ACCELERATION SCATTER PLOT\")\n",
    "plt.ylabel(\"DISPLACMENT->\")\n",
    "plt.xlabel(\"ACCELERATION->\")\n",
    "plt.show"
   ]
  },
  {
   "cell_type": "code",
   "execution_count": null,
   "id": "bf5a6d20",
   "metadata": {
    "papermill": {
     "duration": 0.022494,
     "end_time": "2022-04-25T13:48:44.124693",
     "exception": false,
     "start_time": "2022-04-25T13:48:44.102199",
     "status": "completed"
    },
    "tags": []
   },
   "outputs": [],
   "source": []
  }
 ],
 "metadata": {
  "kernelspec": {
   "display_name": "Python 3",
   "language": "python",
   "name": "python3"
  },
  "language_info": {
   "codemirror_mode": {
    "name": "ipython",
    "version": 3
   },
   "file_extension": ".py",
   "mimetype": "text/x-python",
   "name": "python",
   "nbconvert_exporter": "python",
   "pygments_lexer": "ipython3",
   "version": "3.7.12"
  },
  "papermill": {
   "default_parameters": {},
   "duration": 13.142387,
   "end_time": "2022-04-25T13:48:44.858187",
   "environment_variables": {},
   "exception": null,
   "input_path": "__notebook__.ipynb",
   "output_path": "__notebook__.ipynb",
   "parameters": {},
   "start_time": "2022-04-25T13:48:31.715800",
   "version": "2.3.3"
  }
 },
 "nbformat": 4,
 "nbformat_minor": 5
}
